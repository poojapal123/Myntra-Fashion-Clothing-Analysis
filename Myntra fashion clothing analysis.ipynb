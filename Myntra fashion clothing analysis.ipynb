{
 "cells": [
  {
   "cell_type": "markdown",
   "id": "4c792493",
   "metadata": {},
   "source": [
    "# Myntra Fashion Clothing Analysis"
   ]
  },
  {
   "cell_type": "markdown",
   "id": "b7743ee6",
   "metadata": {},
   "source": [
    "# Scenario1\n",
    "\n",
    "### Task1\n"
   ]
  },
  {
   "cell_type": "code",
   "execution_count": 1,
   "id": "306482ab",
   "metadata": {},
   "outputs": [
    {
     "data": {
      "text/html": [
       "<div>\n",
       "<style scoped>\n",
       "    .dataframe tbody tr th:only-of-type {\n",
       "        vertical-align: middle;\n",
       "    }\n",
       "\n",
       "    .dataframe tbody tr th {\n",
       "        vertical-align: top;\n",
       "    }\n",
       "\n",
       "    .dataframe thead th {\n",
       "        text-align: right;\n",
       "    }\n",
       "</style>\n",
       "<table border=\"1\" class=\"dataframe\">\n",
       "  <thead>\n",
       "    <tr style=\"text-align: right;\">\n",
       "      <th></th>\n",
       "      <th>ProductID</th>\n",
       "      <th>ProductName</th>\n",
       "      <th>ProductBrand</th>\n",
       "    </tr>\n",
       "  </thead>\n",
       "  <tbody>\n",
       "    <tr>\n",
       "      <th>0</th>\n",
       "      <td>10017413</td>\n",
       "      <td>DKNY Unisex Black &amp; Grey Printed Medium Trolle...</td>\n",
       "      <td>DKNY</td>\n",
       "    </tr>\n",
       "    <tr>\n",
       "      <th>1</th>\n",
       "      <td>10016283</td>\n",
       "      <td>EthnoVogue Women Beige &amp; Grey Made to Measure ...</td>\n",
       "      <td>EthnoVogue</td>\n",
       "    </tr>\n",
       "    <tr>\n",
       "      <th>2</th>\n",
       "      <td>10009781</td>\n",
       "      <td>SPYKAR Women Pink Alexa Super Skinny Fit High-...</td>\n",
       "      <td>SPYKAR</td>\n",
       "    </tr>\n",
       "    <tr>\n",
       "      <th>3</th>\n",
       "      <td>10015921</td>\n",
       "      <td>Raymond Men Blue Self-Design Single-Breasted B...</td>\n",
       "      <td>Raymond</td>\n",
       "    </tr>\n",
       "    <tr>\n",
       "      <th>4</th>\n",
       "      <td>10017833</td>\n",
       "      <td>Parx Men Brown &amp; Off-White Slim Fit Printed Ca...</td>\n",
       "      <td>Parx</td>\n",
       "    </tr>\n",
       "  </tbody>\n",
       "</table>\n",
       "</div>"
      ],
      "text/plain": [
       "   ProductID                                        ProductName ProductBrand\n",
       "0   10017413  DKNY Unisex Black & Grey Printed Medium Trolle...         DKNY\n",
       "1   10016283  EthnoVogue Women Beige & Grey Made to Measure ...   EthnoVogue\n",
       "2   10009781  SPYKAR Women Pink Alexa Super Skinny Fit High-...       SPYKAR\n",
       "3   10015921  Raymond Men Blue Self-Design Single-Breasted B...      Raymond\n",
       "4   10017833  Parx Men Brown & Off-White Slim Fit Printed Ca...         Parx"
      ]
     },
     "execution_count": 1,
     "metadata": {},
     "output_type": "execute_result"
    }
   ],
   "source": [
    "#importing relevant packages\n",
    "\n",
    "import pandas as pd\n",
    "import numpy as np\n",
    "import matplotlib.pyplot as plt\n",
    "import seaborn as sb \n",
    "\n",
    "import warnings\n",
    "warnings.filterwarnings('ignore')\n",
    "\n",
    "#importing CSV file \n",
    "\n",
    "df1=pd.read_csv(\"C:\\\\Users\\\\Laptop-PC\\\\Desktop\\\\Myntra Fashion Clothing\\\\product details.csv\",encoding='unicode_escape')\n",
    "df2=pd.read_csv(\"C:\\\\Users\\\\Laptop-PC\\\\Desktop\\\\Myntra Fashion Clothing\\\\products catalog.csv\",encoding='unicode_escape')\n",
    "\n",
    "\n",
    "df1.head(5)"
   ]
  },
  {
   "cell_type": "code",
   "execution_count": 2,
   "id": "b4589999",
   "metadata": {},
   "outputs": [
    {
     "data": {
      "text/html": [
       "<div>\n",
       "<style scoped>\n",
       "    .dataframe tbody tr th:only-of-type {\n",
       "        vertical-align: middle;\n",
       "    }\n",
       "\n",
       "    .dataframe tbody tr th {\n",
       "        vertical-align: top;\n",
       "    }\n",
       "\n",
       "    .dataframe thead th {\n",
       "        text-align: right;\n",
       "    }\n",
       "</style>\n",
       "<table border=\"1\" class=\"dataframe\">\n",
       "  <thead>\n",
       "    <tr style=\"text-align: right;\">\n",
       "      <th></th>\n",
       "      <th>Gender</th>\n",
       "      <th>Price (INR)</th>\n",
       "      <th>NumImages</th>\n",
       "      <th>ID</th>\n",
       "      <th>Description</th>\n",
       "      <th>PrimaryColor</th>\n",
       "    </tr>\n",
       "  </thead>\n",
       "  <tbody>\n",
       "    <tr>\n",
       "      <th>0</th>\n",
       "      <td>Women</td>\n",
       "      <td>593</td>\n",
       "      <td>5</td>\n",
       "      <td>10182131</td>\n",
       "      <td>Off-White printed woven A-line  top, has a rou...</td>\n",
       "      <td>White</td>\n",
       "    </tr>\n",
       "    <tr>\n",
       "      <th>1</th>\n",
       "      <td>Men</td>\n",
       "      <td>6396</td>\n",
       "      <td>5</td>\n",
       "      <td>10052169</td>\n",
       "      <td>Display: AnalogueMovement: QuartzPower source:...</td>\n",
       "      <td>Black</td>\n",
       "    </tr>\n",
       "    <tr>\n",
       "      <th>2</th>\n",
       "      <td>Women</td>\n",
       "      <td>599</td>\n",
       "      <td>5</td>\n",
       "      <td>10168643</td>\n",
       "      <td>Blue printed knitted regular  top, has a high ...</td>\n",
       "      <td>Blue</td>\n",
       "    </tr>\n",
       "    <tr>\n",
       "      <th>3</th>\n",
       "      <td>Men</td>\n",
       "      <td>1034</td>\n",
       "      <td>5</td>\n",
       "      <td>10155427</td>\n",
       "      <td>Grey and Purple checked smart casual shirt, ha...</td>\n",
       "      <td>Grey</td>\n",
       "    </tr>\n",
       "    <tr>\n",
       "      <th>4</th>\n",
       "      <td>Men</td>\n",
       "      <td>477</td>\n",
       "      <td>3</td>\n",
       "      <td>10191059</td>\n",
       "      <td>Beige and Brown striped beltReversible: NoStre...</td>\n",
       "      <td>Brown</td>\n",
       "    </tr>\n",
       "  </tbody>\n",
       "</table>\n",
       "</div>"
      ],
      "text/plain": [
       "  Gender  Price (INR)  NumImages        ID  \\\n",
       "0  Women          593          5  10182131   \n",
       "1    Men         6396          5  10052169   \n",
       "2  Women          599          5  10168643   \n",
       "3    Men         1034          5  10155427   \n",
       "4    Men          477          3  10191059   \n",
       "\n",
       "                                         Description PrimaryColor  \n",
       "0  Off-White printed woven A-line  top, has a rou...        White  \n",
       "1  Display: AnalogueMovement: QuartzPower source:...        Black  \n",
       "2  Blue printed knitted regular  top, has a high ...         Blue  \n",
       "3  Grey and Purple checked smart casual shirt, ha...         Grey  \n",
       "4  Beige and Brown striped beltReversible: NoStre...        Brown  "
      ]
     },
     "execution_count": 2,
     "metadata": {},
     "output_type": "execute_result"
    }
   ],
   "source": [
    "df2.head(5)"
   ]
  },
  {
   "cell_type": "code",
   "execution_count": 3,
   "id": "dafa3e17",
   "metadata": {},
   "outputs": [
    {
     "name": "stdout",
     "output_type": "stream",
     "text": [
      "df1 : (12491, 3) \n",
      "df2 : (12491, 6) \n"
     ]
    }
   ],
   "source": [
    "# structure of data\n",
    "\n",
    "print(\"df1 : {} \".format(df1.shape))\n",
    "print(\"df2 : {} \".format(df2.shape))"
   ]
  },
  {
   "cell_type": "markdown",
   "id": "53cf8eda",
   "metadata": {},
   "source": [
    "we can see that, we have 3 columns + 12491 rows in 1st dataset and 6 columns + 12491 rows in 2nd dataset"
   ]
  },
  {
   "cell_type": "code",
   "execution_count": 4,
   "id": "26a7870c",
   "metadata": {},
   "outputs": [
    {
     "name": "stdout",
     "output_type": "stream",
     "text": [
      "<class 'pandas.core.frame.DataFrame'>\n",
      "RangeIndex: 12491 entries, 0 to 12490\n",
      "Data columns (total 3 columns):\n",
      " #   Column        Non-Null Count  Dtype \n",
      "---  ------        --------------  ----- \n",
      " 0   ProductID     12491 non-null  int64 \n",
      " 1   ProductName   12491 non-null  object\n",
      " 2   ProductBrand  12491 non-null  object\n",
      "dtypes: int64(1), object(2)\n",
      "memory usage: 292.9+ KB\n",
      "None\n",
      "_______________________________________\n",
      "<class 'pandas.core.frame.DataFrame'>\n",
      "RangeIndex: 12491 entries, 0 to 12490\n",
      "Data columns (total 6 columns):\n",
      " #   Column        Non-Null Count  Dtype \n",
      "---  ------        --------------  ----- \n",
      " 0   Gender        12491 non-null  object\n",
      " 1   Price (INR)   12491 non-null  int64 \n",
      " 2   NumImages     12491 non-null  int64 \n",
      " 3   ID            12491 non-null  int64 \n",
      " 4   Description   12491 non-null  object\n",
      " 5   PrimaryColor  11597 non-null  object\n",
      "dtypes: int64(3), object(3)\n",
      "memory usage: 585.6+ KB\n",
      "None\n"
     ]
    }
   ],
   "source": [
    "# Basic information of data\n",
    "\n",
    "print(df1.info())\n",
    "\n",
    "print(\"_______________________________________\") \n",
    "\n",
    "print(df2.info())"
   ]
  },
  {
   "cell_type": "markdown",
   "id": "cc3b2a7d",
   "metadata": {},
   "source": [
    "we have 1 quantitative & 2 qualitative data from 1st dataset and 3 quantitative & 3 qualitative data from 2nd dataset"
   ]
  },
  {
   "cell_type": "code",
   "execution_count": 5,
   "id": "bb6e6373",
   "metadata": {},
   "outputs": [
    {
     "name": "stdout",
     "output_type": "stream",
     "text": [
      "          ProductID\n",
      "count  1.249100e+04\n",
      "mean   9.917160e+06\n",
      "std    1.438006e+06\n",
      "min    1.012060e+05\n",
      "25%    1.006215e+07\n",
      "50%    1.015463e+07\n",
      "75%    1.021565e+07\n",
      "max    1.027514e+07\n",
      "______________________________________________\n",
      "        Price (INR)     NumImages            ID\n",
      "count  12491.000000  12491.000000  1.249100e+04\n",
      "mean    1452.660956      4.913698  9.917160e+06\n",
      "std     2118.503976      1.092333  1.438006e+06\n",
      "min       90.000000      1.000000  1.012060e+05\n",
      "25%      649.000000      5.000000  1.006215e+07\n",
      "50%      920.000000      5.000000  1.015463e+07\n",
      "75%     1499.000000      5.000000  1.021565e+07\n",
      "max    63090.000000     10.000000  1.027514e+07\n"
     ]
    }
   ],
   "source": [
    "# statistics of data / Description of data\n",
    "\n",
    "print(df1.describe())\n",
    "\n",
    "print(\"______________________________________________\")\n",
    "\n",
    "print(df2.describe())\n"
   ]
  },
  {
   "cell_type": "markdown",
   "id": "850a8bf0",
   "metadata": {},
   "source": [
    "# Scenario1\n",
    "# Task2"
   ]
  },
  {
   "cell_type": "code",
   "execution_count": 4,
   "id": "bb36ff18",
   "metadata": {},
   "outputs": [
    {
     "data": {
      "text/html": [
       "<div>\n",
       "<style scoped>\n",
       "    .dataframe tbody tr th:only-of-type {\n",
       "        vertical-align: middle;\n",
       "    }\n",
       "\n",
       "    .dataframe tbody tr th {\n",
       "        vertical-align: top;\n",
       "    }\n",
       "\n",
       "    .dataframe thead th {\n",
       "        text-align: right;\n",
       "    }\n",
       "</style>\n",
       "<table border=\"1\" class=\"dataframe\">\n",
       "  <thead>\n",
       "    <tr style=\"text-align: right;\">\n",
       "      <th></th>\n",
       "      <th>ProductID</th>\n",
       "      <th>ProductName</th>\n",
       "      <th>ProductBrand</th>\n",
       "      <th>Gender</th>\n",
       "      <th>Price (INR)</th>\n",
       "      <th>NumImages</th>\n",
       "      <th>Description</th>\n",
       "      <th>PrimaryColor</th>\n",
       "    </tr>\n",
       "  </thead>\n",
       "  <tbody>\n",
       "    <tr>\n",
       "      <th>0</th>\n",
       "      <td>10017413</td>\n",
       "      <td>DKNY Unisex Black &amp; Grey Printed Medium Trolle...</td>\n",
       "      <td>DKNY</td>\n",
       "      <td>Unisex</td>\n",
       "      <td>11745</td>\n",
       "      <td>7</td>\n",
       "      <td>Black and grey printed medium trolley bag, sec...</td>\n",
       "      <td>Black</td>\n",
       "    </tr>\n",
       "    <tr>\n",
       "      <th>1</th>\n",
       "      <td>10016283</td>\n",
       "      <td>EthnoVogue Women Beige &amp; Grey Made to Measure ...</td>\n",
       "      <td>EthnoVogue</td>\n",
       "      <td>Women</td>\n",
       "      <td>5810</td>\n",
       "      <td>7</td>\n",
       "      <td>Beige &amp; Grey made to measure kurta with churid...</td>\n",
       "      <td>Beige</td>\n",
       "    </tr>\n",
       "    <tr>\n",
       "      <th>2</th>\n",
       "      <td>10009781</td>\n",
       "      <td>SPYKAR Women Pink Alexa Super Skinny Fit High-...</td>\n",
       "      <td>SPYKAR</td>\n",
       "      <td>Women</td>\n",
       "      <td>899</td>\n",
       "      <td>7</td>\n",
       "      <td>Pink coloured wash 5-pocket high-rise cropped ...</td>\n",
       "      <td>Pink</td>\n",
       "    </tr>\n",
       "    <tr>\n",
       "      <th>3</th>\n",
       "      <td>10015921</td>\n",
       "      <td>Raymond Men Blue Self-Design Single-Breasted B...</td>\n",
       "      <td>Raymond</td>\n",
       "      <td>Men</td>\n",
       "      <td>5599</td>\n",
       "      <td>5</td>\n",
       "      <td>Blue self-design bandhgala suitBlue self-desig...</td>\n",
       "      <td>Blue</td>\n",
       "    </tr>\n",
       "    <tr>\n",
       "      <th>4</th>\n",
       "      <td>10017833</td>\n",
       "      <td>Parx Men Brown &amp; Off-White Slim Fit Printed Ca...</td>\n",
       "      <td>Parx</td>\n",
       "      <td>Men</td>\n",
       "      <td>759</td>\n",
       "      <td>5</td>\n",
       "      <td>Brown and off-white printed casual shirt, has ...</td>\n",
       "      <td>White</td>\n",
       "    </tr>\n",
       "  </tbody>\n",
       "</table>\n",
       "</div>"
      ],
      "text/plain": [
       "   ProductID                                        ProductName ProductBrand  \\\n",
       "0   10017413  DKNY Unisex Black & Grey Printed Medium Trolle...         DKNY   \n",
       "1   10016283  EthnoVogue Women Beige & Grey Made to Measure ...   EthnoVogue   \n",
       "2   10009781  SPYKAR Women Pink Alexa Super Skinny Fit High-...       SPYKAR   \n",
       "3   10015921  Raymond Men Blue Self-Design Single-Breasted B...      Raymond   \n",
       "4   10017833  Parx Men Brown & Off-White Slim Fit Printed Ca...         Parx   \n",
       "\n",
       "   Gender  Price (INR)  NumImages  \\\n",
       "0  Unisex        11745          7   \n",
       "1   Women         5810          7   \n",
       "2   Women          899          7   \n",
       "3     Men         5599          5   \n",
       "4     Men          759          5   \n",
       "\n",
       "                                         Description PrimaryColor  \n",
       "0  Black and grey printed medium trolley bag, sec...        Black  \n",
       "1  Beige & Grey made to measure kurta with churid...        Beige  \n",
       "2  Pink coloured wash 5-pocket high-rise cropped ...         Pink  \n",
       "3  Blue self-design bandhgala suitBlue self-desig...         Blue  \n",
       "4  Brown and off-white printed casual shirt, has ...        White  "
      ]
     },
     "execution_count": 4,
     "metadata": {},
     "output_type": "execute_result"
    }
   ],
   "source": [
    "# Creating new DataFrame by joining the two dataset\n",
    "\n",
    "df2.rename(columns = {'ID':'ProductID'}, inplace = True)\n",
    "df= pd.merge(df1, df2, on='ProductID')\n",
    "df.head(5)"
   ]
  },
  {
   "cell_type": "code",
   "execution_count": 5,
   "id": "140ab54a",
   "metadata": {},
   "outputs": [
    {
     "data": {
      "text/plain": [
       "(12491, 8)"
      ]
     },
     "execution_count": 5,
     "metadata": {},
     "output_type": "execute_result"
    }
   ],
   "source": [
    "df.shape"
   ]
  },
  {
   "cell_type": "markdown",
   "id": "e0619b57",
   "metadata": {},
   "source": [
    "after joining the two datasets Now, we have total 8 columns with 12491 rows "
   ]
  },
  {
   "cell_type": "code",
   "execution_count": 6,
   "id": "05581ee0",
   "metadata": {},
   "outputs": [
    {
     "data": {
      "text/plain": [
       "0"
      ]
     },
     "execution_count": 6,
     "metadata": {},
     "output_type": "execute_result"
    }
   ],
   "source": [
    "#drop the duplicate data\n",
    "\n",
    "df.duplicated().sum()"
   ]
  },
  {
   "cell_type": "markdown",
   "id": "a6dd82b6",
   "metadata": {},
   "source": [
    "Before removing duplicate data we have to check that, Is there any duplicate data is available or not. \n",
    "we can see that there is no duplicate data in the dataset so we don't need to drop it"
   ]
  },
  {
   "cell_type": "code",
   "execution_count": 7,
   "id": "fc92ef12",
   "metadata": {},
   "outputs": [
    {
     "data": {
      "text/plain": [
       "PrimaryColor    0.071572\n",
       "ProductID       0.000000\n",
       "ProductName     0.000000\n",
       "ProductBrand    0.000000\n",
       "Gender          0.000000\n",
       "Price (INR)     0.000000\n",
       "NumImages       0.000000\n",
       "Description     0.000000\n",
       "dtype: float64"
      ]
     },
     "execution_count": 7,
     "metadata": {},
     "output_type": "execute_result"
    }
   ],
   "source": [
    "#check missing values\n",
    "\n",
    "df.isnull().sum().sort_values(ascending=False)/len(df)"
   ]
  },
  {
   "cell_type": "markdown",
   "id": "71193aab",
   "metadata": {},
   "source": [
    "we can see that we have null values/missing values in the field of PrimaryColor"
   ]
  },
  {
   "cell_type": "markdown",
   "id": "16dc2144",
   "metadata": {},
   "source": [
    "# Scenario2"
   ]
  },
  {
   "cell_type": "markdown",
   "id": "a3ed92b8",
   "metadata": {},
   "source": [
    "###  1.\tThere is a column that needs string strip operation. Identify that and apply it."
   ]
  },
  {
   "cell_type": "code",
   "execution_count": 8,
   "id": "686cd74c",
   "metadata": {
    "scrolled": true
   },
   "outputs": [
    {
     "data": {
      "text/html": [
       "<div>\n",
       "<style scoped>\n",
       "    .dataframe tbody tr th:only-of-type {\n",
       "        vertical-align: middle;\n",
       "    }\n",
       "\n",
       "    .dataframe tbody tr th {\n",
       "        vertical-align: top;\n",
       "    }\n",
       "\n",
       "    .dataframe thead th {\n",
       "        text-align: right;\n",
       "    }\n",
       "</style>\n",
       "<table border=\"1\" class=\"dataframe\">\n",
       "  <thead>\n",
       "    <tr style=\"text-align: right;\">\n",
       "      <th></th>\n",
       "      <th>ProductName</th>\n",
       "      <th>ProductBrand</th>\n",
       "      <th>Gender</th>\n",
       "      <th>Description</th>\n",
       "      <th>PrimaryColor</th>\n",
       "    </tr>\n",
       "  </thead>\n",
       "  <tbody>\n",
       "    <tr>\n",
       "      <th>0</th>\n",
       "      <td>DKNY Unisex Black &amp; Grey Printed Medium Trolle...</td>\n",
       "      <td>DKNY</td>\n",
       "      <td>Unisex</td>\n",
       "      <td>Black and grey printed medium trolley bag, sec...</td>\n",
       "      <td>Black</td>\n",
       "    </tr>\n",
       "    <tr>\n",
       "      <th>1</th>\n",
       "      <td>EthnoVogue Women Beige &amp; Grey Made to Measure ...</td>\n",
       "      <td>EthnoVogue</td>\n",
       "      <td>Women</td>\n",
       "      <td>Beige &amp; Grey made to measure kurta with churid...</td>\n",
       "      <td>Beige</td>\n",
       "    </tr>\n",
       "    <tr>\n",
       "      <th>2</th>\n",
       "      <td>SPYKAR Women Pink Alexa Super Skinny Fit High-...</td>\n",
       "      <td>SPYKAR</td>\n",
       "      <td>Women</td>\n",
       "      <td>Pink coloured wash 5-pocket high-rise cropped ...</td>\n",
       "      <td>Pink</td>\n",
       "    </tr>\n",
       "    <tr>\n",
       "      <th>3</th>\n",
       "      <td>Raymond Men Blue Self-Design Single-Breasted B...</td>\n",
       "      <td>Raymond</td>\n",
       "      <td>Men</td>\n",
       "      <td>Blue self-design bandhgala suitBlue self-desig...</td>\n",
       "      <td>Blue</td>\n",
       "    </tr>\n",
       "    <tr>\n",
       "      <th>4</th>\n",
       "      <td>Parx Men Brown &amp; Off-White Slim Fit Printed Ca...</td>\n",
       "      <td>Parx</td>\n",
       "      <td>Men</td>\n",
       "      <td>Brown and off-white printed casual shirt, has ...</td>\n",
       "      <td>White</td>\n",
       "    </tr>\n",
       "  </tbody>\n",
       "</table>\n",
       "</div>"
      ],
      "text/plain": [
       "                                         ProductName ProductBrand  Gender  \\\n",
       "0  DKNY Unisex Black & Grey Printed Medium Trolle...         DKNY  Unisex   \n",
       "1  EthnoVogue Women Beige & Grey Made to Measure ...   EthnoVogue   Women   \n",
       "2  SPYKAR Women Pink Alexa Super Skinny Fit High-...       SPYKAR   Women   \n",
       "3  Raymond Men Blue Self-Design Single-Breasted B...      Raymond     Men   \n",
       "4  Parx Men Brown & Off-White Slim Fit Printed Ca...         Parx     Men   \n",
       "\n",
       "                                         Description PrimaryColor  \n",
       "0  Black and grey printed medium trolley bag, sec...        Black  \n",
       "1  Beige & Grey made to measure kurta with churid...        Beige  \n",
       "2  Pink coloured wash 5-pocket high-rise cropped ...         Pink  \n",
       "3  Blue self-design bandhgala suitBlue self-desig...         Blue  \n",
       "4  Brown and off-white printed casual shirt, has ...        White  "
      ]
     },
     "execution_count": 8,
     "metadata": {},
     "output_type": "execute_result"
    }
   ],
   "source": [
    "df_=df.select_dtypes(['object'])\n",
    "df[df_.columns]=df_.apply(lambda x:x.str.strip())   # str.strip removes the whitespace from the edges\n",
    "df[df_.columns].head(5)"
   ]
  },
  {
   "cell_type": "code",
   "execution_count": 9,
   "id": "bae69c82",
   "metadata": {},
   "outputs": [
    {
     "data": {
      "text/html": [
       "<div>\n",
       "<style scoped>\n",
       "    .dataframe tbody tr th:only-of-type {\n",
       "        vertical-align: middle;\n",
       "    }\n",
       "\n",
       "    .dataframe tbody tr th {\n",
       "        vertical-align: top;\n",
       "    }\n",
       "\n",
       "    .dataframe thead th {\n",
       "        text-align: right;\n",
       "    }\n",
       "</style>\n",
       "<table border=\"1\" class=\"dataframe\">\n",
       "  <thead>\n",
       "    <tr style=\"text-align: right;\">\n",
       "      <th></th>\n",
       "      <th>ProductID</th>\n",
       "      <th>ProductName</th>\n",
       "      <th>ProductBrand</th>\n",
       "      <th>Gender</th>\n",
       "      <th>Price (INR)</th>\n",
       "      <th>NumImages</th>\n",
       "      <th>Description</th>\n",
       "      <th>PrimaryColor</th>\n",
       "    </tr>\n",
       "  </thead>\n",
       "  <tbody>\n",
       "    <tr>\n",
       "      <th>0</th>\n",
       "      <td>10017413</td>\n",
       "      <td>DKNY Unisex Black &amp; Grey Printed Medium Trolle...</td>\n",
       "      <td>DKNY</td>\n",
       "      <td>Unisex</td>\n",
       "      <td>11745</td>\n",
       "      <td>7</td>\n",
       "      <td>Black and grey printed medium trolley bag, sec...</td>\n",
       "      <td>Black</td>\n",
       "    </tr>\n",
       "    <tr>\n",
       "      <th>1</th>\n",
       "      <td>10016283</td>\n",
       "      <td>EthnoVogue Women Beige &amp; Grey Made to Measure ...</td>\n",
       "      <td>EthnoVogue</td>\n",
       "      <td>Women</td>\n",
       "      <td>5810</td>\n",
       "      <td>7</td>\n",
       "      <td>Beige &amp; Grey made to measure kurta with churid...</td>\n",
       "      <td>Beige</td>\n",
       "    </tr>\n",
       "    <tr>\n",
       "      <th>2</th>\n",
       "      <td>10009781</td>\n",
       "      <td>SPYKAR Women Pink Alexa Super Skinny Fit High-...</td>\n",
       "      <td>SPYKAR</td>\n",
       "      <td>Women</td>\n",
       "      <td>899</td>\n",
       "      <td>7</td>\n",
       "      <td>Pink coloured wash 5-pocket high-rise cropped ...</td>\n",
       "      <td>Pink</td>\n",
       "    </tr>\n",
       "    <tr>\n",
       "      <th>3</th>\n",
       "      <td>10015921</td>\n",
       "      <td>Raymond Men Blue Self-Design Single-Breasted B...</td>\n",
       "      <td>Raymond</td>\n",
       "      <td>Men</td>\n",
       "      <td>5599</td>\n",
       "      <td>5</td>\n",
       "      <td>Blue self-design bandhgala suitBlue self-desig...</td>\n",
       "      <td>Blue</td>\n",
       "    </tr>\n",
       "    <tr>\n",
       "      <th>4</th>\n",
       "      <td>10017833</td>\n",
       "      <td>Parx Men Brown &amp; Off-White Slim Fit Printed Ca...</td>\n",
       "      <td>Parx</td>\n",
       "      <td>Men</td>\n",
       "      <td>759</td>\n",
       "      <td>5</td>\n",
       "      <td>Brown and off-white printed casual shirt, has ...</td>\n",
       "      <td>White</td>\n",
       "    </tr>\n",
       "  </tbody>\n",
       "</table>\n",
       "</div>"
      ],
      "text/plain": [
       "   ProductID                                        ProductName ProductBrand  \\\n",
       "0   10017413  DKNY Unisex Black & Grey Printed Medium Trolle...         DKNY   \n",
       "1   10016283  EthnoVogue Women Beige & Grey Made to Measure ...   EthnoVogue   \n",
       "2   10009781  SPYKAR Women Pink Alexa Super Skinny Fit High-...       SPYKAR   \n",
       "3   10015921  Raymond Men Blue Self-Design Single-Breasted B...      Raymond   \n",
       "4   10017833  Parx Men Brown & Off-White Slim Fit Printed Ca...         Parx   \n",
       "\n",
       "   Gender  Price (INR)  NumImages  \\\n",
       "0  Unisex        11745          7   \n",
       "1   Women         5810          7   \n",
       "2   Women          899          7   \n",
       "3     Men         5599          5   \n",
       "4     Men          759          5   \n",
       "\n",
       "                                         Description PrimaryColor  \n",
       "0  Black and grey printed medium trolley bag, sec...        Black  \n",
       "1  Beige & Grey made to measure kurta with churid...        Beige  \n",
       "2  Pink coloured wash 5-pocket high-rise cropped ...         Pink  \n",
       "3  Blue self-design bandhgala suitBlue self-desig...         Blue  \n",
       "4  Brown and off-white printed casual shirt, has ...        White  "
      ]
     },
     "execution_count": 9,
     "metadata": {},
     "output_type": "execute_result"
    }
   ],
   "source": [
    "df.head(5)"
   ]
  },
  {
   "cell_type": "markdown",
   "id": "d139aae2",
   "metadata": {},
   "source": [
    "As compared to both data frames, we can see that there is a minor change in the column of ProductName and Description \n",
    "so these are the two columns that were needed for string strip operation"
   ]
  },
  {
   "cell_type": "markdown",
   "id": "8ce85325",
   "metadata": {},
   "source": [
    "###  2.\tFill the missing value by ‘Others’ in the column containing it"
   ]
  },
  {
   "cell_type": "code",
   "execution_count": 10,
   "id": "f88e1826",
   "metadata": {},
   "outputs": [],
   "source": [
    "df['PrimaryColor'].fillna('Others', inplace=True)"
   ]
  },
  {
   "cell_type": "code",
   "execution_count": 11,
   "id": "198b17d8",
   "metadata": {},
   "outputs": [
    {
     "data": {
      "text/plain": [
       "ProductID       0.0\n",
       "ProductName     0.0\n",
       "ProductBrand    0.0\n",
       "Gender          0.0\n",
       "Price (INR)     0.0\n",
       "NumImages       0.0\n",
       "Description     0.0\n",
       "PrimaryColor    0.0\n",
       "dtype: float64"
      ]
     },
     "execution_count": 11,
     "metadata": {},
     "output_type": "execute_result"
    }
   ],
   "source": [
    "df.isnull().sum().sort_values(ascending=False)/len(df)"
   ]
  },
  {
   "cell_type": "code",
   "execution_count": 12,
   "id": "88211a05",
   "metadata": {},
   "outputs": [
    {
     "data": {
      "text/plain": [
       "(12491, 8)"
      ]
     },
     "execution_count": 12,
     "metadata": {},
     "output_type": "execute_result"
    }
   ],
   "source": [
    "df.shape"
   ]
  },
  {
   "cell_type": "code",
   "execution_count": 13,
   "id": "147e1551",
   "metadata": {},
   "outputs": [
    {
     "data": {
      "text/plain": [
       "0         Black\n",
       "1         Beige\n",
       "2          Pink\n",
       "3          Blue\n",
       "4         White\n",
       "          ...  \n",
       "12486     Black\n",
       "12487      Gold\n",
       "12488      Blue\n",
       "12489    Others\n",
       "12490     Black\n",
       "Name: PrimaryColor, Length: 12491, dtype: object"
      ]
     },
     "execution_count": 13,
     "metadata": {},
     "output_type": "execute_result"
    }
   ],
   "source": [
    "df['PrimaryColor']"
   ]
  },
  {
   "cell_type": "markdown",
   "id": "40d6e792",
   "metadata": {},
   "source": [
    "Null values is replaced from others"
   ]
  },
  {
   "cell_type": "markdown",
   "id": "ecf59c56",
   "metadata": {},
   "source": [
    "###  3.\tSince all the column names are single word so you can convert the ‘Price (INR)’ also to single name ‘Price’."
   ]
  },
  {
   "cell_type": "code",
   "execution_count": 14,
   "id": "895a3526",
   "metadata": {},
   "outputs": [],
   "source": [
    "df.rename(columns = {'Price (INR)':'Price'}, inplace = True)"
   ]
  },
  {
   "cell_type": "code",
   "execution_count": 15,
   "id": "81fd5240",
   "metadata": {},
   "outputs": [
    {
     "data": {
      "text/html": [
       "<div>\n",
       "<style scoped>\n",
       "    .dataframe tbody tr th:only-of-type {\n",
       "        vertical-align: middle;\n",
       "    }\n",
       "\n",
       "    .dataframe tbody tr th {\n",
       "        vertical-align: top;\n",
       "    }\n",
       "\n",
       "    .dataframe thead th {\n",
       "        text-align: right;\n",
       "    }\n",
       "</style>\n",
       "<table border=\"1\" class=\"dataframe\">\n",
       "  <thead>\n",
       "    <tr style=\"text-align: right;\">\n",
       "      <th></th>\n",
       "      <th>ProductID</th>\n",
       "      <th>ProductName</th>\n",
       "      <th>ProductBrand</th>\n",
       "      <th>Gender</th>\n",
       "      <th>Price</th>\n",
       "      <th>NumImages</th>\n",
       "      <th>Description</th>\n",
       "      <th>PrimaryColor</th>\n",
       "    </tr>\n",
       "  </thead>\n",
       "  <tbody>\n",
       "    <tr>\n",
       "      <th>0</th>\n",
       "      <td>10017413</td>\n",
       "      <td>DKNY Unisex Black &amp; Grey Printed Medium Trolle...</td>\n",
       "      <td>DKNY</td>\n",
       "      <td>Unisex</td>\n",
       "      <td>11745</td>\n",
       "      <td>7</td>\n",
       "      <td>Black and grey printed medium trolley bag, sec...</td>\n",
       "      <td>Black</td>\n",
       "    </tr>\n",
       "    <tr>\n",
       "      <th>1</th>\n",
       "      <td>10016283</td>\n",
       "      <td>EthnoVogue Women Beige &amp; Grey Made to Measure ...</td>\n",
       "      <td>EthnoVogue</td>\n",
       "      <td>Women</td>\n",
       "      <td>5810</td>\n",
       "      <td>7</td>\n",
       "      <td>Beige &amp; Grey made to measure kurta with churid...</td>\n",
       "      <td>Beige</td>\n",
       "    </tr>\n",
       "    <tr>\n",
       "      <th>2</th>\n",
       "      <td>10009781</td>\n",
       "      <td>SPYKAR Women Pink Alexa Super Skinny Fit High-...</td>\n",
       "      <td>SPYKAR</td>\n",
       "      <td>Women</td>\n",
       "      <td>899</td>\n",
       "      <td>7</td>\n",
       "      <td>Pink coloured wash 5-pocket high-rise cropped ...</td>\n",
       "      <td>Pink</td>\n",
       "    </tr>\n",
       "  </tbody>\n",
       "</table>\n",
       "</div>"
      ],
      "text/plain": [
       "   ProductID                                        ProductName ProductBrand  \\\n",
       "0   10017413  DKNY Unisex Black & Grey Printed Medium Trolle...         DKNY   \n",
       "1   10016283  EthnoVogue Women Beige & Grey Made to Measure ...   EthnoVogue   \n",
       "2   10009781  SPYKAR Women Pink Alexa Super Skinny Fit High-...       SPYKAR   \n",
       "\n",
       "   Gender  Price  NumImages  \\\n",
       "0  Unisex  11745          7   \n",
       "1   Women   5810          7   \n",
       "2   Women    899          7   \n",
       "\n",
       "                                         Description PrimaryColor  \n",
       "0  Black and grey printed medium trolley bag, sec...        Black  \n",
       "1  Beige & Grey made to measure kurta with churid...        Beige  \n",
       "2  Pink coloured wash 5-pocket high-rise cropped ...         Pink  "
      ]
     },
     "execution_count": 15,
     "metadata": {},
     "output_type": "execute_result"
    }
   ],
   "source": [
    "df.head(3)"
   ]
  },
  {
   "cell_type": "markdown",
   "id": "aece16e4",
   "metadata": {},
   "source": [
    "# Scenario3"
   ]
  },
  {
   "cell_type": "markdown",
   "id": "df467683",
   "metadata": {},
   "source": [
    "### Task1"
   ]
  },
  {
   "cell_type": "markdown",
   "id": "5c6d8f48",
   "metadata": {},
   "source": [
    "###  1.\tUnivariate analysis of each variable"
   ]
  },
  {
   "cell_type": "code",
   "execution_count": 19,
   "id": "f844de5f",
   "metadata": {},
   "outputs": [
    {
     "data": {
      "image/png": "[encoded data removed]",
      "text/plain": [
       "<Figure size 576x216 with 1 Axes>"
      ]
     },
     "metadata": {
      "needs_background": "light"
     },
     "output_type": "display_data"
    }
   ],
   "source": [
    "import matplotlib.pyplot as plt\n",
    "\n",
    "plt.subplots(figsize=(8,3))\n",
    "sb.set()\n",
    "sb.boxplot(df['ProductID']);"
   ]
  },
  {
   "cell_type": "code",
   "execution_count": 20,
   "id": "0880cccd",
   "metadata": {},
   "outputs": [
    {
     "data": {
      "image/png": "[encoded data removed]",
      "text/plain": [
       "<Figure size 1080x360 with 1 Axes>"
      ]
     },
     "metadata": {},
     "output_type": "display_data"
    }
   ],
   "source": [
    "plt.subplots(figsize=(15,5))\n",
    "sb.set()\n",
    "plt.hist(df['NumImages'],color='g');"
   ]
  },
  {
   "cell_type": "code",
   "execution_count": 21,
   "id": "cec49778",
   "metadata": {},
   "outputs": [
    {
     "data": {
      "image/png": "[encoded data removed]",
      "text/plain": [
       "<Figure size 576x216 with 1 Axes>"
      ]
     },
     "metadata": {},
     "output_type": "display_data"
    }
   ],
   "source": [
    "plt.subplots(figsize=(8,3))\n",
    "sb.set()\n",
    "sb.boxplot(df['Price']);"
   ]
  },
  {
   "cell_type": "code",
   "execution_count": 22,
   "id": "ad3427fa",
   "metadata": {},
   "outputs": [],
   "source": [
    "#remove outliers\n",
    "\n",
    "dt=df.drop(df[df['Price']>2100].index, inplace=True)"
   ]
  },
  {
   "cell_type": "code",
   "execution_count": 23,
   "id": "21f3d318",
   "metadata": {},
   "outputs": [
    {
     "data": {
      "image/png": "[encoded data removed]",
      "text/plain": [
       "<Figure size 576x216 with 1 Axes>"
      ]
     },
     "metadata": {},
     "output_type": "display_data"
    }
   ],
   "source": [
    "plt.subplots(figsize=(8,3))\n",
    "sb.set()\n",
    "sb.boxplot(df['Price'],data=dt,color='r');"
   ]
  },
  {
   "cell_type": "code",
   "execution_count": 16,
   "id": "31595694",
   "metadata": {},
   "outputs": [
    {
     "data": {
      "text/plain": [
       "<AxesSubplot:xlabel='PrimaryColor', ylabel='count'>"
      ]
     },
     "execution_count": 16,
     "metadata": {},
     "output_type": "execute_result"
    },
    {
     "data": {
      "image/png": "[encoded data removed]",
      "text/plain": [
       "<Figure size 1368x360 with 1 Axes>"
      ]
     },
     "metadata": {
      "needs_background": "light"
     },
     "output_type": "display_data"
    }
   ],
   "source": [
    "plt.subplots(figsize=(19,5))\n",
    "sb.set()\n",
    "sb.countplot(df['PrimaryColor'])"
   ]
  },
  {
   "cell_type": "code",
   "execution_count": 17,
   "id": "8cadf9b6",
   "metadata": {},
   "outputs": [
    {
     "data": {
      "text/plain": [
       "<AxesSubplot:xlabel='Gender', ylabel='count'>"
      ]
     },
     "execution_count": 17,
     "metadata": {},
     "output_type": "execute_result"
    },
    {
     "data": {
      "image/png": "[encoded data removed]",
      "text/plain": [
       "<Figure size 1368x360 with 1 Axes>"
      ]
     },
     "metadata": {},
     "output_type": "display_data"
    }
   ],
   "source": [
    "plt.subplots(figsize=(19,5))\n",
    "sb.set()\n",
    "sb.countplot(df['Gender'])"
   ]
  },
  {
   "cell_type": "markdown",
   "id": "25b388e9",
   "metadata": {},
   "source": [
    "###  2.\tBivariate Analysis of categorical vs numerical variables (Take target variable as fixed variable here)"
   ]
  },
  {
   "cell_type": "code",
   "execution_count": 18,
   "id": "60b4abc8",
   "metadata": {},
   "outputs": [
    {
     "data": {
      "image/png": "[encoded data removed]",
      "text/plain": [
       "<Figure size 432x288 with 1 Axes>"
      ]
     },
     "metadata": {},
     "output_type": "display_data"
    }
   ],
   "source": [
    "sb.set()\n",
    "df.groupby('ProductBrand').mean()['Price'].sort_values(ascending = False).head(10).plot(kind='bar',color='salmon');"
   ]
  },
  {
   "cell_type": "code",
   "execution_count": 19,
   "id": "6a3c59df",
   "metadata": {},
   "outputs": [
    {
     "data": {
      "image/png": "[encoded data removed]",
      "text/plain": [
       "<Figure size 432x288 with 1 Axes>"
      ]
     },
     "metadata": {},
     "output_type": "display_data"
    }
   ],
   "source": [
    "sb.set()\n",
    "df.groupby('ProductName').mean()['Price'].sort_values(ascending = False).head(10).plot(kind='barh',color='g');"
   ]
  },
  {
   "cell_type": "code",
   "execution_count": 20,
   "id": "b8fac340",
   "metadata": {},
   "outputs": [
    {
     "data": {
      "text/plain": [
       "<seaborn.axisgrid.JointGrid at 0x21bfaba2370>"
      ]
     },
     "execution_count": 20,
     "metadata": {},
     "output_type": "execute_result"
    },
    {
     "data": {
      "image/png": "[encoded data removed]",
      "text/plain": [
       "<Figure size 432x432 with 3 Axes>"
      ]
     },
     "metadata": {},
     "output_type": "display_data"
    }
   ],
   "source": [
    "sb.set()\n",
    "sb.jointplot(y=df[\"Price\"], x=df[\"Gender\"], kind='scatter',height=6,ratio=5,color='salmon')"
   ]
  },
  {
   "cell_type": "markdown",
   "id": "51bc2ea3",
   "metadata": {},
   "source": [
    "###  3.\tMultivariate Analysis of categorical and numerical variables\n"
   ]
  },
  {
   "cell_type": "code",
   "execution_count": 21,
   "id": "536f0c4c",
   "metadata": {},
   "outputs": [
    {
     "data": {
      "text/html": [
       "<div>\n",
       "<style scoped>\n",
       "    .dataframe tbody tr th:only-of-type {\n",
       "        vertical-align: middle;\n",
       "    }\n",
       "\n",
       "    .dataframe tbody tr th {\n",
       "        vertical-align: top;\n",
       "    }\n",
       "\n",
       "    .dataframe thead th {\n",
       "        text-align: right;\n",
       "    }\n",
       "</style>\n",
       "<table border=\"1\" class=\"dataframe\">\n",
       "  <thead>\n",
       "    <tr style=\"text-align: right;\">\n",
       "      <th></th>\n",
       "      <th>ProductID</th>\n",
       "      <th>ProductName</th>\n",
       "      <th>ProductBrand</th>\n",
       "      <th>Gender</th>\n",
       "      <th>Price</th>\n",
       "      <th>NumImages</th>\n",
       "      <th>Description</th>\n",
       "      <th>PrimaryColor</th>\n",
       "    </tr>\n",
       "  </thead>\n",
       "  <tbody>\n",
       "    <tr>\n",
       "      <th>7416</th>\n",
       "      <td>10184209</td>\n",
       "      <td>Garmin Unisex Blue Forerunner 945 Smartwatch 0...</td>\n",
       "      <td>Garmin</td>\n",
       "      <td>Unisex</td>\n",
       "      <td>63090</td>\n",
       "      <td>4</td>\n",
       "      <td>Features:Sync music from select premium stream...</td>\n",
       "      <td>Blue</td>\n",
       "    </tr>\n",
       "    <tr>\n",
       "      <th>7465</th>\n",
       "      <td>10184211</td>\n",
       "      <td>Garmin Unisex Black Forerunner 945 Smartwatch ...</td>\n",
       "      <td>Garmin</td>\n",
       "      <td>Unisex</td>\n",
       "      <td>63090</td>\n",
       "      <td>4</td>\n",
       "      <td>Features:Sync music from select premium stream...</td>\n",
       "      <td>Black</td>\n",
       "    </tr>\n",
       "    <tr>\n",
       "      <th>1568</th>\n",
       "      <td>10026421</td>\n",
       "      <td>MOVADO Men Black Analogue Watch 607243</td>\n",
       "      <td>MOVADO</td>\n",
       "      <td>Men</td>\n",
       "      <td>58854</td>\n",
       "      <td>3</td>\n",
       "      <td>Display: AnalogueMovement: QuartzPower source:...</td>\n",
       "      <td>Black</td>\n",
       "    </tr>\n",
       "    <tr>\n",
       "      <th>1376</th>\n",
       "      <td>10026411</td>\n",
       "      <td>MOVADO Women Blue Analogue Watch 607268</td>\n",
       "      <td>MOVADO</td>\n",
       "      <td>Women</td>\n",
       "      <td>56192</td>\n",
       "      <td>3</td>\n",
       "      <td>Display: AnalogueMovement: QuartzPower source:...</td>\n",
       "      <td>Blue</td>\n",
       "    </tr>\n",
       "    <tr>\n",
       "      <th>9400</th>\n",
       "      <td>10223339</td>\n",
       "      <td>SEIKO Solar Women Silver Analogue watch SUP428P1</td>\n",
       "      <td>SEIKO</td>\n",
       "      <td>Women</td>\n",
       "      <td>34500</td>\n",
       "      <td>6</td>\n",
       "      <td>Display: AnalogueMovement: QuartzPower source:...</td>\n",
       "      <td>Silver</td>\n",
       "    </tr>\n",
       "    <tr>\n",
       "      <th>1472</th>\n",
       "      <td>10026417</td>\n",
       "      <td>MOVADO Men Blue Swiss-Made Analogue Watch 607197</td>\n",
       "      <td>MOVADO</td>\n",
       "      <td>Men</td>\n",
       "      <td>32532</td>\n",
       "      <td>3</td>\n",
       "      <td>Display: AnalogueMovement: QuartzPower source:...</td>\n",
       "      <td>Blue</td>\n",
       "    </tr>\n",
       "    <tr>\n",
       "      <th>470</th>\n",
       "      <td>10017433</td>\n",
       "      <td>DKNY Unisex Purple Large Trolley Bag</td>\n",
       "      <td>DKNY</td>\n",
       "      <td>Unisex</td>\n",
       "      <td>31100</td>\n",
       "      <td>7</td>\n",
       "      <td>Purple textured large trolley bag, secured wit...</td>\n",
       "      <td>Purple</td>\n",
       "    </tr>\n",
       "    <tr>\n",
       "      <th>960</th>\n",
       "      <td>10017461</td>\n",
       "      <td>DKNY Unisex Black &amp; Grey Printed Large Trolley...</td>\n",
       "      <td>DKNY</td>\n",
       "      <td>Unisex</td>\n",
       "      <td>31100</td>\n",
       "      <td>7</td>\n",
       "      <td>Black textured large trolley bag, secured with...</td>\n",
       "      <td>Black</td>\n",
       "    </tr>\n",
       "    <tr>\n",
       "      <th>6102</th>\n",
       "      <td>10163819</td>\n",
       "      <td>PRESTO Beige &amp; Black Printed Handmade Anti-Ski...</td>\n",
       "      <td>PRESTO</td>\n",
       "      <td>Unisex</td>\n",
       "      <td>29998</td>\n",
       "      <td>5</td>\n",
       "      <td>Content: One carpetColour:Beige and black Fabr...</td>\n",
       "      <td>Black</td>\n",
       "    </tr>\n",
       "    <tr>\n",
       "      <th>8953</th>\n",
       "      <td>10223353</td>\n",
       "      <td>SEIKO Solar Men Black Analogue watch SSC723P1</td>\n",
       "      <td>SEIKO</td>\n",
       "      <td>Men</td>\n",
       "      <td>29500</td>\n",
       "      <td>6</td>\n",
       "      <td>Display: AnalogueMovement: QuartzPower source:...</td>\n",
       "      <td>Black</td>\n",
       "    </tr>\n",
       "  </tbody>\n",
       "</table>\n",
       "</div>"
      ],
      "text/plain": [
       "      ProductID                                        ProductName  \\\n",
       "7416   10184209  Garmin Unisex Blue Forerunner 945 Smartwatch 0...   \n",
       "7465   10184211  Garmin Unisex Black Forerunner 945 Smartwatch ...   \n",
       "1568   10026421             MOVADO Men Black Analogue Watch 607243   \n",
       "1376   10026411            MOVADO Women Blue Analogue Watch 607268   \n",
       "9400   10223339   SEIKO Solar Women Silver Analogue watch SUP428P1   \n",
       "1472   10026417   MOVADO Men Blue Swiss-Made Analogue Watch 607197   \n",
       "470    10017433               DKNY Unisex Purple Large Trolley Bag   \n",
       "960    10017461  DKNY Unisex Black & Grey Printed Large Trolley...   \n",
       "6102   10163819  PRESTO Beige & Black Printed Handmade Anti-Ski...   \n",
       "8953   10223353      SEIKO Solar Men Black Analogue watch SSC723P1   \n",
       "\n",
       "     ProductBrand  Gender  Price  NumImages  \\\n",
       "7416       Garmin  Unisex  63090          4   \n",
       "7465       Garmin  Unisex  63090          4   \n",
       "1568       MOVADO     Men  58854          3   \n",
       "1376       MOVADO   Women  56192          3   \n",
       "9400        SEIKO   Women  34500          6   \n",
       "1472       MOVADO     Men  32532          3   \n",
       "470          DKNY  Unisex  31100          7   \n",
       "960          DKNY  Unisex  31100          7   \n",
       "6102       PRESTO  Unisex  29998          5   \n",
       "8953        SEIKO     Men  29500          6   \n",
       "\n",
       "                                            Description PrimaryColor  \n",
       "7416  Features:Sync music from select premium stream...         Blue  \n",
       "7465  Features:Sync music from select premium stream...        Black  \n",
       "1568  Display: AnalogueMovement: QuartzPower source:...        Black  \n",
       "1376  Display: AnalogueMovement: QuartzPower source:...         Blue  \n",
       "9400  Display: AnalogueMovement: QuartzPower source:...       Silver  \n",
       "1472  Display: AnalogueMovement: QuartzPower source:...         Blue  \n",
       "470   Purple textured large trolley bag, secured wit...       Purple  \n",
       "960   Black textured large trolley bag, secured with...        Black  \n",
       "6102  Content: One carpetColour:Beige and black Fabr...        Black  \n",
       "8953  Display: AnalogueMovement: QuartzPower source:...        Black  "
      ]
     },
     "execution_count": 21,
     "metadata": {},
     "output_type": "execute_result"
    }
   ],
   "source": [
    "data=df.sort_values(by = 'Price', ascending = False).head(10)\n",
    "data"
   ]
  },
  {
   "cell_type": "code",
   "execution_count": 22,
   "id": "64b56dba",
   "metadata": {},
   "outputs": [
    {
     "data": {
      "text/plain": [
       "<AxesSubplot:xlabel='ProductBrand', ylabel='Price'>"
      ]
     },
     "execution_count": 22,
     "metadata": {},
     "output_type": "execute_result"
    },
    {
     "data": {
      "image/png": "[encoded data removed]",
      "text/plain": [
       "<Figure size 1368x360 with 1 Axes>"
      ]
     },
     "metadata": {},
     "output_type": "display_data"
    }
   ],
   "source": [
    "plt.subplots(figsize=(19,5))\n",
    "sb.set()\n",
    "sb.barplot(x=data['ProductBrand'],y=data['Price'],hue=data['Gender'])"
   ]
  },
  {
   "cell_type": "code",
   "execution_count": 23,
   "id": "e4274faf",
   "metadata": {},
   "outputs": [
    {
     "data": {
      "text/plain": [
       "<AxesSubplot:xlabel='Gender', ylabel='Price'>"
      ]
     },
     "execution_count": 23,
     "metadata": {},
     "output_type": "execute_result"
    },
    {
     "data": {
      "image/png": "[encoded data removed]",
      "text/plain": [
       "<Figure size 1440x360 with 1 Axes>"
      ]
     },
     "metadata": {},
     "output_type": "display_data"
    }
   ],
   "source": [
    "plt.subplots(figsize=(20,5))\n",
    "sb.set()\n",
    "sb.barplot(x=data['Gender'],y=data['Price'],hue=data['ProductName'])"
   ]
  },
  {
   "cell_type": "markdown",
   "id": "5790a0e6",
   "metadata": {},
   "source": [
    "###  4.\tCheck distribution of variables"
   ]
  },
  {
   "cell_type": "code",
   "execution_count": 24,
   "id": "aea4c1c2",
   "metadata": {},
   "outputs": [
    {
     "data": {
      "image/png": "[encoded data removed]",
      "text/plain": [
       "<Figure size 720x360 with 1 Axes>"
      ]
     },
     "metadata": {},
     "output_type": "display_data"
    }
   ],
   "source": [
    "plt.subplots(figsize=(10,5))\n",
    "sb.set()\n",
    "sb.distplot(df['Price'],color='g');"
   ]
  },
  {
   "cell_type": "code",
   "execution_count": 25,
   "id": "90a01aa6",
   "metadata": {},
   "outputs": [
    {
     "data": {
      "image/png": "[encoded data removed]",
      "text/plain": [
       "<Figure size 720x360 with 1 Axes>"
      ]
     },
     "metadata": {},
     "output_type": "display_data"
    }
   ],
   "source": [
    "plt.subplots(figsize=(10,5))\n",
    "sb.set()\n",
    "sb.distplot(df['NumImages'],color='g');"
   ]
  },
  {
   "cell_type": "code",
   "execution_count": 26,
   "id": "f82cfcee",
   "metadata": {},
   "outputs": [
    {
     "data": {
      "image/png": "[encoded data removed]",
      "text/plain": [
       "<Figure size 720x360 with 1 Axes>"
      ]
     },
     "metadata": {},
     "output_type": "display_data"
    }
   ],
   "source": [
    "plt.subplots(figsize=(10,5))\n",
    "sb.set()\n",
    "sb.distplot(df['ProductID'],kde=False,color='r');"
   ]
  },
  {
   "cell_type": "markdown",
   "id": "801b6f01",
   "metadata": {},
   "source": [
    "### Task2\n",
    "#### 1.\tCreate a new Column “NewGender” to analyse further its distribution. Going forward we will consider this group for tasks\n",
    "#### Logic Applied\n",
    "#### i.\tInclude Boys & Men as Men\n",
    "#### ii.\tInclude Girls & Women as Women\n",
    "#### iii.\tInclude Unisex & Unisex Kids as Unisex"
   ]
  },
  {
   "cell_type": "code",
   "execution_count": 27,
   "id": "5c435efc",
   "metadata": {},
   "outputs": [],
   "source": [
    "df['NewGender'] = df[df['Gender'] != 'NaN']['Gender']"
   ]
  },
  {
   "cell_type": "code",
   "execution_count": 28,
   "id": "55a5e32b",
   "metadata": {},
   "outputs": [
    {
     "data": {
      "text/plain": [
       "array(['Unisex', 'Women', 'Men', 'Boys', 'Girls', 'Unisex Kids'],\n",
       "      dtype=object)"
      ]
     },
     "execution_count": 28,
     "metadata": {},
     "output_type": "execute_result"
    }
   ],
   "source": [
    "df['NewGender'].unique()"
   ]
  },
  {
   "cell_type": "code",
   "execution_count": 29,
   "id": "ba36ba7a",
   "metadata": {},
   "outputs": [],
   "source": [
    "data1=df.replace({'NewGender':{'Boys' : 'Men', 'Girls' : 'Women','Unisex Kids':'Unisex' }})"
   ]
  },
  {
   "cell_type": "code",
   "execution_count": 30,
   "id": "4255aa4f",
   "metadata": {},
   "outputs": [
    {
     "data": {
      "text/plain": [
       "array(['Unisex', 'Women', 'Men'], dtype=object)"
      ]
     },
     "execution_count": 30,
     "metadata": {},
     "output_type": "execute_result"
    }
   ],
   "source": [
    "data1['NewGender'].unique()"
   ]
  },
  {
   "cell_type": "markdown",
   "id": "6fbc4847",
   "metadata": {},
   "source": [
    "###  2.\tComplete the analysis of NewGender along with other categorical cols."
   ]
  },
  {
   "cell_type": "code",
   "execution_count": 31,
   "id": "b7dd9732",
   "metadata": {},
   "outputs": [
    {
     "data": {
      "image/png": "[encoded data removed]",
      "text/plain": [
       "<Figure size 504x432 with 1 Axes>"
      ]
     },
     "metadata": {},
     "output_type": "display_data"
    }
   ],
   "source": [
    "gender = data1['NewGender'].value_counts()\n",
    "plt.figure(figsize=(7, 6))\n",
    "ax = gender.plot(kind='bar', rot=0, color=\"c\")\n",
    "ax.set_xlabel('Gender')\n",
    "ax.set_ylabel('Number of Products')\n",
    "ax.set_xticklabels(('Men', 'Women','Unisex'))\n",
    "\n",
    "for rect in ax.patches:\n",
    "    y_value = rect.get_height()\n",
    "    x_value = rect.get_x() + rect.get_width() / 2\n",
    "    space = 1\n",
    "    label = format(y_value)\n",
    "    ax.annotate(label, (x_value, y_value), xytext=(0, space), textcoords=\"offset points\", ha='center', va='bottom')    \n",
    "plt.show()"
   ]
  },
  {
   "cell_type": "markdown",
   "id": "7bc8fe9d",
   "metadata": {},
   "source": [
    "we can see that there is a 5691 No.of product buys by mens,5566 No.of product buys by womens and 1234 No.of product buys by Unisex\n",
    "there is a very minor difference between men and women but Unisex spends less time on products"
   ]
  },
  {
   "cell_type": "markdown",
   "id": "62d37b5d",
   "metadata": {},
   "source": [
    "### Task3\n",
    "#### 1.\tCreate a new Column “DescriptionLength” to analyse further its distribution.\n",
    "#### Logic Applied\n",
    "#### i.\tEach record of DescriptionLength is equal to the number of chars in Description"
   ]
  },
  {
   "cell_type": "code",
   "execution_count": 32,
   "id": "13e8c270",
   "metadata": {},
   "outputs": [],
   "source": [
    "df['DescriptionLength'] =(df['Description']).str.len()\n"
   ]
  },
  {
   "cell_type": "code",
   "execution_count": 33,
   "id": "4d75099e",
   "metadata": {},
   "outputs": [
    {
     "data": {
      "text/plain": [
       "0        401\n",
       "1        622\n",
       "2        133\n",
       "3        340\n",
       "4        122\n",
       "        ... \n",
       "12486    280\n",
       "12487    210\n",
       "12488     84\n",
       "12489     50\n",
       "12490    186\n",
       "Name: DescriptionLength, Length: 12491, dtype: int64"
      ]
     },
     "execution_count": 33,
     "metadata": {},
     "output_type": "execute_result"
    }
   ],
   "source": [
    "df['DescriptionLength']"
   ]
  },
  {
   "cell_type": "code",
   "execution_count": 34,
   "id": "190a9cce",
   "metadata": {},
   "outputs": [
    {
     "data": {
      "text/html": [
       "<div>\n",
       "<style scoped>\n",
       "    .dataframe tbody tr th:only-of-type {\n",
       "        vertical-align: middle;\n",
       "    }\n",
       "\n",
       "    .dataframe tbody tr th {\n",
       "        vertical-align: top;\n",
       "    }\n",
       "\n",
       "    .dataframe thead th {\n",
       "        text-align: right;\n",
       "    }\n",
       "</style>\n",
       "<table border=\"1\" class=\"dataframe\">\n",
       "  <thead>\n",
       "    <tr style=\"text-align: right;\">\n",
       "      <th></th>\n",
       "      <th>ProductID</th>\n",
       "      <th>ProductName</th>\n",
       "      <th>ProductBrand</th>\n",
       "      <th>Gender</th>\n",
       "      <th>Price</th>\n",
       "      <th>NumImages</th>\n",
       "      <th>Description</th>\n",
       "      <th>PrimaryColor</th>\n",
       "      <th>NewGender</th>\n",
       "      <th>DescriptionLength</th>\n",
       "    </tr>\n",
       "  </thead>\n",
       "  <tbody>\n",
       "    <tr>\n",
       "      <th>0</th>\n",
       "      <td>10017413</td>\n",
       "      <td>DKNY Unisex Black &amp; Grey Printed Medium Trolle...</td>\n",
       "      <td>DKNY</td>\n",
       "      <td>Unisex</td>\n",
       "      <td>11745</td>\n",
       "      <td>7</td>\n",
       "      <td>Black and grey printed medium trolley bag, sec...</td>\n",
       "      <td>Black</td>\n",
       "      <td>Unisex</td>\n",
       "      <td>401</td>\n",
       "    </tr>\n",
       "    <tr>\n",
       "      <th>1</th>\n",
       "      <td>10016283</td>\n",
       "      <td>EthnoVogue Women Beige &amp; Grey Made to Measure ...</td>\n",
       "      <td>EthnoVogue</td>\n",
       "      <td>Women</td>\n",
       "      <td>5810</td>\n",
       "      <td>7</td>\n",
       "      <td>Beige &amp; Grey made to measure kurta with churid...</td>\n",
       "      <td>Beige</td>\n",
       "      <td>Women</td>\n",
       "      <td>622</td>\n",
       "    </tr>\n",
       "    <tr>\n",
       "      <th>2</th>\n",
       "      <td>10009781</td>\n",
       "      <td>SPYKAR Women Pink Alexa Super Skinny Fit High-...</td>\n",
       "      <td>SPYKAR</td>\n",
       "      <td>Women</td>\n",
       "      <td>899</td>\n",
       "      <td>7</td>\n",
       "      <td>Pink coloured wash 5-pocket high-rise cropped ...</td>\n",
       "      <td>Pink</td>\n",
       "      <td>Women</td>\n",
       "      <td>133</td>\n",
       "    </tr>\n",
       "  </tbody>\n",
       "</table>\n",
       "</div>"
      ],
      "text/plain": [
       "   ProductID                                        ProductName ProductBrand  \\\n",
       "0   10017413  DKNY Unisex Black & Grey Printed Medium Trolle...         DKNY   \n",
       "1   10016283  EthnoVogue Women Beige & Grey Made to Measure ...   EthnoVogue   \n",
       "2   10009781  SPYKAR Women Pink Alexa Super Skinny Fit High-...       SPYKAR   \n",
       "\n",
       "   Gender  Price  NumImages  \\\n",
       "0  Unisex  11745          7   \n",
       "1   Women   5810          7   \n",
       "2   Women    899          7   \n",
       "\n",
       "                                         Description PrimaryColor NewGender  \\\n",
       "0  Black and grey printed medium trolley bag, sec...        Black    Unisex   \n",
       "1  Beige & Grey made to measure kurta with churid...        Beige     Women   \n",
       "2  Pink coloured wash 5-pocket high-rise cropped ...         Pink     Women   \n",
       "\n",
       "   DescriptionLength  \n",
       "0                401  \n",
       "1                622  \n",
       "2                133  "
      ]
     },
     "execution_count": 34,
     "metadata": {},
     "output_type": "execute_result"
    }
   ],
   "source": [
    "df.head(3)"
   ]
  },
  {
   "cell_type": "markdown",
   "id": "8aa10676",
   "metadata": {},
   "source": [
    "###  2.\tComplete the analysis of DescriptionLength along with other categorical cols."
   ]
  },
  {
   "cell_type": "code",
   "execution_count": 35,
   "id": "56212395",
   "metadata": {},
   "outputs": [
    {
     "data": {
      "text/html": [
       "<div>\n",
       "<style scoped>\n",
       "    .dataframe tbody tr th:only-of-type {\n",
       "        vertical-align: middle;\n",
       "    }\n",
       "\n",
       "    .dataframe tbody tr th {\n",
       "        vertical-align: top;\n",
       "    }\n",
       "\n",
       "    .dataframe thead th {\n",
       "        text-align: right;\n",
       "    }\n",
       "</style>\n",
       "<table border=\"1\" class=\"dataframe\">\n",
       "  <thead>\n",
       "    <tr style=\"text-align: right;\">\n",
       "      <th></th>\n",
       "      <th>ProductID</th>\n",
       "      <th>ProductName</th>\n",
       "      <th>ProductBrand</th>\n",
       "      <th>Gender</th>\n",
       "      <th>Price</th>\n",
       "      <th>NumImages</th>\n",
       "      <th>Description</th>\n",
       "      <th>PrimaryColor</th>\n",
       "      <th>NewGender</th>\n",
       "      <th>DescriptionLength</th>\n",
       "    </tr>\n",
       "  </thead>\n",
       "  <tbody>\n",
       "    <tr>\n",
       "      <th>7416</th>\n",
       "      <td>10184209</td>\n",
       "      <td>Garmin Unisex Blue Forerunner 945 Smartwatch 0...</td>\n",
       "      <td>Garmin</td>\n",
       "      <td>Unisex</td>\n",
       "      <td>63090</td>\n",
       "      <td>4</td>\n",
       "      <td>Features:Sync music from select premium stream...</td>\n",
       "      <td>Blue</td>\n",
       "      <td>Unisex</td>\n",
       "      <td>954</td>\n",
       "    </tr>\n",
       "    <tr>\n",
       "      <th>7465</th>\n",
       "      <td>10184211</td>\n",
       "      <td>Garmin Unisex Black Forerunner 945 Smartwatch ...</td>\n",
       "      <td>Garmin</td>\n",
       "      <td>Unisex</td>\n",
       "      <td>63090</td>\n",
       "      <td>4</td>\n",
       "      <td>Features:Sync music from select premium stream...</td>\n",
       "      <td>Black</td>\n",
       "      <td>Unisex</td>\n",
       "      <td>954</td>\n",
       "    </tr>\n",
       "    <tr>\n",
       "      <th>1568</th>\n",
       "      <td>10026421</td>\n",
       "      <td>MOVADO Men Black Analogue Watch 607243</td>\n",
       "      <td>MOVADO</td>\n",
       "      <td>Men</td>\n",
       "      <td>58854</td>\n",
       "      <td>3</td>\n",
       "      <td>Display: AnalogueMovement: QuartzPower source:...</td>\n",
       "      <td>Black</td>\n",
       "      <td>Men</td>\n",
       "      <td>317</td>\n",
       "    </tr>\n",
       "    <tr>\n",
       "      <th>1376</th>\n",
       "      <td>10026411</td>\n",
       "      <td>MOVADO Women Blue Analogue Watch 607268</td>\n",
       "      <td>MOVADO</td>\n",
       "      <td>Women</td>\n",
       "      <td>56192</td>\n",
       "      <td>3</td>\n",
       "      <td>Display: AnalogueMovement: QuartzPower source:...</td>\n",
       "      <td>Blue</td>\n",
       "      <td>Women</td>\n",
       "      <td>308</td>\n",
       "    </tr>\n",
       "    <tr>\n",
       "      <th>9400</th>\n",
       "      <td>10223339</td>\n",
       "      <td>SEIKO Solar Women Silver Analogue watch SUP428P1</td>\n",
       "      <td>SEIKO</td>\n",
       "      <td>Women</td>\n",
       "      <td>34500</td>\n",
       "      <td>6</td>\n",
       "      <td>Display: AnalogueMovement: QuartzPower source:...</td>\n",
       "      <td>Silver</td>\n",
       "      <td>Women</td>\n",
       "      <td>466</td>\n",
       "    </tr>\n",
       "    <tr>\n",
       "      <th>1472</th>\n",
       "      <td>10026417</td>\n",
       "      <td>MOVADO Men Blue Swiss-Made Analogue Watch 607197</td>\n",
       "      <td>MOVADO</td>\n",
       "      <td>Men</td>\n",
       "      <td>32532</td>\n",
       "      <td>3</td>\n",
       "      <td>Display: AnalogueMovement: QuartzPower source:...</td>\n",
       "      <td>Blue</td>\n",
       "      <td>Men</td>\n",
       "      <td>290</td>\n",
       "    </tr>\n",
       "    <tr>\n",
       "      <th>470</th>\n",
       "      <td>10017433</td>\n",
       "      <td>DKNY Unisex Purple Large Trolley Bag</td>\n",
       "      <td>DKNY</td>\n",
       "      <td>Unisex</td>\n",
       "      <td>31100</td>\n",
       "      <td>7</td>\n",
       "      <td>Purple textured large trolley bag, secured wit...</td>\n",
       "      <td>Purple</td>\n",
       "      <td>Unisex</td>\n",
       "      <td>356</td>\n",
       "    </tr>\n",
       "    <tr>\n",
       "      <th>960</th>\n",
       "      <td>10017461</td>\n",
       "      <td>DKNY Unisex Black &amp; Grey Printed Large Trolley...</td>\n",
       "      <td>DKNY</td>\n",
       "      <td>Unisex</td>\n",
       "      <td>31100</td>\n",
       "      <td>7</td>\n",
       "      <td>Black textured large trolley bag, secured with...</td>\n",
       "      <td>Black</td>\n",
       "      <td>Unisex</td>\n",
       "      <td>355</td>\n",
       "    </tr>\n",
       "    <tr>\n",
       "      <th>6102</th>\n",
       "      <td>10163819</td>\n",
       "      <td>PRESTO Beige &amp; Black Printed Handmade Anti-Ski...</td>\n",
       "      <td>PRESTO</td>\n",
       "      <td>Unisex</td>\n",
       "      <td>29998</td>\n",
       "      <td>5</td>\n",
       "      <td>Content: One carpetColour:Beige and black Fabr...</td>\n",
       "      <td>Black</td>\n",
       "      <td>Unisex</td>\n",
       "      <td>88</td>\n",
       "    </tr>\n",
       "    <tr>\n",
       "      <th>8953</th>\n",
       "      <td>10223353</td>\n",
       "      <td>SEIKO Solar Men Black Analogue watch SSC723P1</td>\n",
       "      <td>SEIKO</td>\n",
       "      <td>Men</td>\n",
       "      <td>29500</td>\n",
       "      <td>6</td>\n",
       "      <td>Display: AnalogueMovement: QuartzPower source:...</td>\n",
       "      <td>Black</td>\n",
       "      <td>Men</td>\n",
       "      <td>478</td>\n",
       "    </tr>\n",
       "  </tbody>\n",
       "</table>\n",
       "</div>"
      ],
      "text/plain": [
       "      ProductID                                        ProductName  \\\n",
       "7416   10184209  Garmin Unisex Blue Forerunner 945 Smartwatch 0...   \n",
       "7465   10184211  Garmin Unisex Black Forerunner 945 Smartwatch ...   \n",
       "1568   10026421             MOVADO Men Black Analogue Watch 607243   \n",
       "1376   10026411            MOVADO Women Blue Analogue Watch 607268   \n",
       "9400   10223339   SEIKO Solar Women Silver Analogue watch SUP428P1   \n",
       "1472   10026417   MOVADO Men Blue Swiss-Made Analogue Watch 607197   \n",
       "470    10017433               DKNY Unisex Purple Large Trolley Bag   \n",
       "960    10017461  DKNY Unisex Black & Grey Printed Large Trolley...   \n",
       "6102   10163819  PRESTO Beige & Black Printed Handmade Anti-Ski...   \n",
       "8953   10223353      SEIKO Solar Men Black Analogue watch SSC723P1   \n",
       "\n",
       "     ProductBrand  Gender  Price  NumImages  \\\n",
       "7416       Garmin  Unisex  63090          4   \n",
       "7465       Garmin  Unisex  63090          4   \n",
       "1568       MOVADO     Men  58854          3   \n",
       "1376       MOVADO   Women  56192          3   \n",
       "9400        SEIKO   Women  34500          6   \n",
       "1472       MOVADO     Men  32532          3   \n",
       "470          DKNY  Unisex  31100          7   \n",
       "960          DKNY  Unisex  31100          7   \n",
       "6102       PRESTO  Unisex  29998          5   \n",
       "8953        SEIKO     Men  29500          6   \n",
       "\n",
       "                                            Description PrimaryColor  \\\n",
       "7416  Features:Sync music from select premium stream...         Blue   \n",
       "7465  Features:Sync music from select premium stream...        Black   \n",
       "1568  Display: AnalogueMovement: QuartzPower source:...        Black   \n",
       "1376  Display: AnalogueMovement: QuartzPower source:...         Blue   \n",
       "9400  Display: AnalogueMovement: QuartzPower source:...       Silver   \n",
       "1472  Display: AnalogueMovement: QuartzPower source:...         Blue   \n",
       "470   Purple textured large trolley bag, secured wit...       Purple   \n",
       "960   Black textured large trolley bag, secured with...        Black   \n",
       "6102  Content: One carpetColour:Beige and black Fabr...        Black   \n",
       "8953  Display: AnalogueMovement: QuartzPower source:...        Black   \n",
       "\n",
       "     NewGender  DescriptionLength  \n",
       "7416    Unisex                954  \n",
       "7465    Unisex                954  \n",
       "1568       Men                317  \n",
       "1376     Women                308  \n",
       "9400     Women                466  \n",
       "1472       Men                290  \n",
       "470     Unisex                356  \n",
       "960     Unisex                355  \n",
       "6102    Unisex                 88  \n",
       "8953       Men                478  "
      ]
     },
     "execution_count": 35,
     "metadata": {},
     "output_type": "execute_result"
    }
   ],
   "source": [
    "dataf=df.sort_values(by = 'Price', ascending = False).head(10)\n",
    "dataf"
   ]
  },
  {
   "cell_type": "code",
   "execution_count": 36,
   "id": "1d79754b",
   "metadata": {},
   "outputs": [
    {
     "data": {
      "text/plain": [
       "<AxesSubplot:xlabel='ProductBrand', ylabel='DescriptionLength'>"
      ]
     },
     "execution_count": 36,
     "metadata": {},
     "output_type": "execute_result"
    },
    {
     "data": {
      "image/png": "[encoded data removed]",
      "text/plain": [
       "<Figure size 720x360 with 1 Axes>"
      ]
     },
     "metadata": {},
     "output_type": "display_data"
    }
   ],
   "source": [
    "plt.subplots(figsize=(10,5))\n",
    "sb.set()\n",
    "sb.barplot(x=dataf['ProductBrand'],y=dataf['DescriptionLength'])"
   ]
  },
  {
   "cell_type": "markdown",
   "id": "a0d3c3a1",
   "metadata": {},
   "source": [
    "we can see that these are top 5 product brands where Garmin has highest Description length"
   ]
  },
  {
   "cell_type": "markdown",
   "id": "d3e2c791",
   "metadata": {},
   "source": [
    "###  3.\tIsn’t it important to check if attribute information is also included in Description? "
   ]
  },
  {
   "cell_type": "markdown",
   "id": "e316a2e1",
   "metadata": {},
   "source": [
    "Can't say it is important or not but yes if it is present in the data then it's good for us for better understanding about the product and data.\n",
    "Because attribute information displays all the details about the attribute, including the attribute properties, default values, attribute visibility,\n",
    "and any constraints on the attribute, And attribute is a specification that defines a property of an object & element.\n",
    "\n"
   ]
  }
 ],
 "metadata": {
  "kernelspec": {
   "display_name": "Python 3 (ipykernel)",
   "language": "python",
   "name": "python3"
  },
  "language_info": {
   "codemirror_mode": {
    "name": "ipython",
    "version": 3
   },
   "file_extension": ".py",
   "mimetype": "text/x-python",
   "name": "python",
   "nbconvert_exporter": "python",
   "pygments_lexer": "ipython3",
   "version": "3.9.7"
  }
 },
 "nbformat": 4,
 "nbformat_minor": 5
}
